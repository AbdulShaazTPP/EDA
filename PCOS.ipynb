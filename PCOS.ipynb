{
 "cells": [
  {
   "cell_type": "code",
   "execution_count": 3,
   "metadata": {},
   "outputs": [],
   "source": [
    "import pandas as pd\n",
    "import numpy as np\n",
    "import matplotlib.pyplot as plt\n",
    "import seaborn as sns\n",
    "%matplotlib inline\n",
    "import plotly.express as px"
   ]
  },
  {
   "cell_type": "code",
   "execution_count": 4,
   "metadata": {},
   "outputs": [
    {
     "data": {
      "text/html": [
       "<div>\n",
       "<style scoped>\n",
       "    .dataframe tbody tr th:only-of-type {\n",
       "        vertical-align: middle;\n",
       "    }\n",
       "\n",
       "    .dataframe tbody tr th {\n",
       "        vertical-align: top;\n",
       "    }\n",
       "\n",
       "    .dataframe thead th {\n",
       "        text-align: right;\n",
       "    }\n",
       "</style>\n",
       "<table border=\"1\" class=\"dataframe\">\n",
       "  <thead>\n",
       "    <tr style=\"text-align: right;\">\n",
       "      <th></th>\n",
       "      <th>Age</th>\n",
       "      <th>BMI</th>\n",
       "      <th>Menstrual_Irregularity</th>\n",
       "      <th>Testosterone_Level(ng/dL)</th>\n",
       "      <th>Antral_Follicle_Count</th>\n",
       "      <th>PCOS_Diagnosis</th>\n",
       "    </tr>\n",
       "  </thead>\n",
       "  <tbody>\n",
       "    <tr>\n",
       "      <th>0</th>\n",
       "      <td>24</td>\n",
       "      <td>34.7</td>\n",
       "      <td>1</td>\n",
       "      <td>25.2</td>\n",
       "      <td>20</td>\n",
       "      <td>0</td>\n",
       "    </tr>\n",
       "    <tr>\n",
       "      <th>1</th>\n",
       "      <td>37</td>\n",
       "      <td>26.4</td>\n",
       "      <td>0</td>\n",
       "      <td>57.1</td>\n",
       "      <td>25</td>\n",
       "      <td>0</td>\n",
       "    </tr>\n",
       "    <tr>\n",
       "      <th>2</th>\n",
       "      <td>32</td>\n",
       "      <td>23.6</td>\n",
       "      <td>0</td>\n",
       "      <td>92.7</td>\n",
       "      <td>28</td>\n",
       "      <td>0</td>\n",
       "    </tr>\n",
       "    <tr>\n",
       "      <th>3</th>\n",
       "      <td>28</td>\n",
       "      <td>28.8</td>\n",
       "      <td>0</td>\n",
       "      <td>63.1</td>\n",
       "      <td>26</td>\n",
       "      <td>0</td>\n",
       "    </tr>\n",
       "    <tr>\n",
       "      <th>4</th>\n",
       "      <td>25</td>\n",
       "      <td>22.1</td>\n",
       "      <td>1</td>\n",
       "      <td>59.8</td>\n",
       "      <td>8</td>\n",
       "      <td>0</td>\n",
       "    </tr>\n",
       "    <tr>\n",
       "      <th>...</th>\n",
       "      <td>...</td>\n",
       "      <td>...</td>\n",
       "      <td>...</td>\n",
       "      <td>...</td>\n",
       "      <td>...</td>\n",
       "      <td>...</td>\n",
       "    </tr>\n",
       "    <tr>\n",
       "      <th>995</th>\n",
       "      <td>34</td>\n",
       "      <td>18.4</td>\n",
       "      <td>1</td>\n",
       "      <td>95.7</td>\n",
       "      <td>23</td>\n",
       "      <td>0</td>\n",
       "    </tr>\n",
       "    <tr>\n",
       "      <th>996</th>\n",
       "      <td>45</td>\n",
       "      <td>28.9</td>\n",
       "      <td>1</td>\n",
       "      <td>28.5</td>\n",
       "      <td>7</td>\n",
       "      <td>0</td>\n",
       "    </tr>\n",
       "    <tr>\n",
       "      <th>997</th>\n",
       "      <td>37</td>\n",
       "      <td>28.3</td>\n",
       "      <td>0</td>\n",
       "      <td>32.4</td>\n",
       "      <td>28</td>\n",
       "      <td>0</td>\n",
       "    </tr>\n",
       "    <tr>\n",
       "      <th>998</th>\n",
       "      <td>41</td>\n",
       "      <td>27.3</td>\n",
       "      <td>0</td>\n",
       "      <td>95.6</td>\n",
       "      <td>9</td>\n",
       "      <td>0</td>\n",
       "    </tr>\n",
       "    <tr>\n",
       "      <th>999</th>\n",
       "      <td>22</td>\n",
       "      <td>21.9</td>\n",
       "      <td>1</td>\n",
       "      <td>78.9</td>\n",
       "      <td>7</td>\n",
       "      <td>0</td>\n",
       "    </tr>\n",
       "  </tbody>\n",
       "</table>\n",
       "<p>1000 rows × 6 columns</p>\n",
       "</div>"
      ],
      "text/plain": [
       "     Age   BMI  Menstrual_Irregularity  Testosterone_Level(ng/dL)  \\\n",
       "0     24  34.7                       1                       25.2   \n",
       "1     37  26.4                       0                       57.1   \n",
       "2     32  23.6                       0                       92.7   \n",
       "3     28  28.8                       0                       63.1   \n",
       "4     25  22.1                       1                       59.8   \n",
       "..   ...   ...                     ...                        ...   \n",
       "995   34  18.4                       1                       95.7   \n",
       "996   45  28.9                       1                       28.5   \n",
       "997   37  28.3                       0                       32.4   \n",
       "998   41  27.3                       0                       95.6   \n",
       "999   22  21.9                       1                       78.9   \n",
       "\n",
       "     Antral_Follicle_Count  PCOS_Diagnosis  \n",
       "0                       20               0  \n",
       "1                       25               0  \n",
       "2                       28               0  \n",
       "3                       26               0  \n",
       "4                        8               0  \n",
       "..                     ...             ...  \n",
       "995                     23               0  \n",
       "996                      7               0  \n",
       "997                     28               0  \n",
       "998                      9               0  \n",
       "999                      7               0  \n",
       "\n",
       "[1000 rows x 6 columns]"
      ]
     },
     "execution_count": 4,
     "metadata": {},
     "output_type": "execute_result"
    }
   ],
   "source": [
    "df = pd.read_csv(r\"D:\\Datasets\\PCOS\\pcos_dataset.csv\")\n",
    "df"
   ]
  },
  {
   "cell_type": "code",
   "execution_count": 5,
   "metadata": {},
   "outputs": [
    {
     "data": {
      "text/html": [
       "<div>\n",
       "<style scoped>\n",
       "    .dataframe tbody tr th:only-of-type {\n",
       "        vertical-align: middle;\n",
       "    }\n",
       "\n",
       "    .dataframe tbody tr th {\n",
       "        vertical-align: top;\n",
       "    }\n",
       "\n",
       "    .dataframe thead th {\n",
       "        text-align: right;\n",
       "    }\n",
       "</style>\n",
       "<table border=\"1\" class=\"dataframe\">\n",
       "  <thead>\n",
       "    <tr style=\"text-align: right;\">\n",
       "      <th></th>\n",
       "      <th>Age</th>\n",
       "      <th>BMI</th>\n",
       "      <th>Menstrual_Irregularity</th>\n",
       "      <th>Testosterone_Level(ng/dL)</th>\n",
       "      <th>Antral_Follicle_Count</th>\n",
       "      <th>PCOS_Diagnosis</th>\n",
       "    </tr>\n",
       "  </thead>\n",
       "  <tbody>\n",
       "    <tr>\n",
       "      <th>0</th>\n",
       "      <td>24</td>\n",
       "      <td>34.7</td>\n",
       "      <td>1</td>\n",
       "      <td>25.2</td>\n",
       "      <td>20</td>\n",
       "      <td>0</td>\n",
       "    </tr>\n",
       "    <tr>\n",
       "      <th>1</th>\n",
       "      <td>37</td>\n",
       "      <td>26.4</td>\n",
       "      <td>0</td>\n",
       "      <td>57.1</td>\n",
       "      <td>25</td>\n",
       "      <td>0</td>\n",
       "    </tr>\n",
       "    <tr>\n",
       "      <th>2</th>\n",
       "      <td>32</td>\n",
       "      <td>23.6</td>\n",
       "      <td>0</td>\n",
       "      <td>92.7</td>\n",
       "      <td>28</td>\n",
       "      <td>0</td>\n",
       "    </tr>\n",
       "    <tr>\n",
       "      <th>3</th>\n",
       "      <td>28</td>\n",
       "      <td>28.8</td>\n",
       "      <td>0</td>\n",
       "      <td>63.1</td>\n",
       "      <td>26</td>\n",
       "      <td>0</td>\n",
       "    </tr>\n",
       "    <tr>\n",
       "      <th>4</th>\n",
       "      <td>25</td>\n",
       "      <td>22.1</td>\n",
       "      <td>1</td>\n",
       "      <td>59.8</td>\n",
       "      <td>8</td>\n",
       "      <td>0</td>\n",
       "    </tr>\n",
       "  </tbody>\n",
       "</table>\n",
       "</div>"
      ],
      "text/plain": [
       "   Age   BMI  Menstrual_Irregularity  Testosterone_Level(ng/dL)  \\\n",
       "0   24  34.7                       1                       25.2   \n",
       "1   37  26.4                       0                       57.1   \n",
       "2   32  23.6                       0                       92.7   \n",
       "3   28  28.8                       0                       63.1   \n",
       "4   25  22.1                       1                       59.8   \n",
       "\n",
       "   Antral_Follicle_Count  PCOS_Diagnosis  \n",
       "0                     20               0  \n",
       "1                     25               0  \n",
       "2                     28               0  \n",
       "3                     26               0  \n",
       "4                      8               0  "
      ]
     },
     "execution_count": 5,
     "metadata": {},
     "output_type": "execute_result"
    }
   ],
   "source": [
    "df.head()"
   ]
  },
  {
   "cell_type": "code",
   "execution_count": 6,
   "metadata": {},
   "outputs": [
    {
     "data": {
      "text/html": [
       "<div>\n",
       "<style scoped>\n",
       "    .dataframe tbody tr th:only-of-type {\n",
       "        vertical-align: middle;\n",
       "    }\n",
       "\n",
       "    .dataframe tbody tr th {\n",
       "        vertical-align: top;\n",
       "    }\n",
       "\n",
       "    .dataframe thead th {\n",
       "        text-align: right;\n",
       "    }\n",
       "</style>\n",
       "<table border=\"1\" class=\"dataframe\">\n",
       "  <thead>\n",
       "    <tr style=\"text-align: right;\">\n",
       "      <th></th>\n",
       "      <th>Age</th>\n",
       "      <th>BMI</th>\n",
       "      <th>Menstrual_Irregularity</th>\n",
       "      <th>Testosterone_Level(ng/dL)</th>\n",
       "      <th>Antral_Follicle_Count</th>\n",
       "      <th>PCOS_Diagnosis</th>\n",
       "    </tr>\n",
       "  </thead>\n",
       "  <tbody>\n",
       "    <tr>\n",
       "      <th>count</th>\n",
       "      <td>1000.000000</td>\n",
       "      <td>1000.00000</td>\n",
       "      <td>1000.000000</td>\n",
       "      <td>1000.000000</td>\n",
       "      <td>1000.000000</td>\n",
       "      <td>1000.000000</td>\n",
       "    </tr>\n",
       "    <tr>\n",
       "      <th>mean</th>\n",
       "      <td>31.771000</td>\n",
       "      <td>26.38700</td>\n",
       "      <td>0.530000</td>\n",
       "      <td>60.159500</td>\n",
       "      <td>17.469000</td>\n",
       "      <td>0.199000</td>\n",
       "    </tr>\n",
       "    <tr>\n",
       "      <th>std</th>\n",
       "      <td>8.463462</td>\n",
       "      <td>4.93554</td>\n",
       "      <td>0.499349</td>\n",
       "      <td>23.160204</td>\n",
       "      <td>7.069301</td>\n",
       "      <td>0.399448</td>\n",
       "    </tr>\n",
       "    <tr>\n",
       "      <th>min</th>\n",
       "      <td>18.000000</td>\n",
       "      <td>18.10000</td>\n",
       "      <td>0.000000</td>\n",
       "      <td>20.000000</td>\n",
       "      <td>5.000000</td>\n",
       "      <td>0.000000</td>\n",
       "    </tr>\n",
       "    <tr>\n",
       "      <th>25%</th>\n",
       "      <td>24.000000</td>\n",
       "      <td>21.90000</td>\n",
       "      <td>0.000000</td>\n",
       "      <td>41.700000</td>\n",
       "      <td>12.000000</td>\n",
       "      <td>0.000000</td>\n",
       "    </tr>\n",
       "    <tr>\n",
       "      <th>50%</th>\n",
       "      <td>32.000000</td>\n",
       "      <td>26.40000</td>\n",
       "      <td>1.000000</td>\n",
       "      <td>60.000000</td>\n",
       "      <td>18.000000</td>\n",
       "      <td>0.000000</td>\n",
       "    </tr>\n",
       "    <tr>\n",
       "      <th>75%</th>\n",
       "      <td>39.000000</td>\n",
       "      <td>30.50000</td>\n",
       "      <td>1.000000</td>\n",
       "      <td>80.300000</td>\n",
       "      <td>23.250000</td>\n",
       "      <td>0.000000</td>\n",
       "    </tr>\n",
       "    <tr>\n",
       "      <th>max</th>\n",
       "      <td>45.000000</td>\n",
       "      <td>35.00000</td>\n",
       "      <td>1.000000</td>\n",
       "      <td>99.800000</td>\n",
       "      <td>29.000000</td>\n",
       "      <td>1.000000</td>\n",
       "    </tr>\n",
       "  </tbody>\n",
       "</table>\n",
       "</div>"
      ],
      "text/plain": [
       "               Age         BMI  Menstrual_Irregularity  \\\n",
       "count  1000.000000  1000.00000             1000.000000   \n",
       "mean     31.771000    26.38700                0.530000   \n",
       "std       8.463462     4.93554                0.499349   \n",
       "min      18.000000    18.10000                0.000000   \n",
       "25%      24.000000    21.90000                0.000000   \n",
       "50%      32.000000    26.40000                1.000000   \n",
       "75%      39.000000    30.50000                1.000000   \n",
       "max      45.000000    35.00000                1.000000   \n",
       "\n",
       "       Testosterone_Level(ng/dL)  Antral_Follicle_Count  PCOS_Diagnosis  \n",
       "count                1000.000000            1000.000000     1000.000000  \n",
       "mean                   60.159500              17.469000        0.199000  \n",
       "std                    23.160204               7.069301        0.399448  \n",
       "min                    20.000000               5.000000        0.000000  \n",
       "25%                    41.700000              12.000000        0.000000  \n",
       "50%                    60.000000              18.000000        0.000000  \n",
       "75%                    80.300000              23.250000        0.000000  \n",
       "max                    99.800000              29.000000        1.000000  "
      ]
     },
     "execution_count": 6,
     "metadata": {},
     "output_type": "execute_result"
    }
   ],
   "source": [
    "df.describe()"
   ]
  },
  {
   "cell_type": "code",
   "execution_count": 7,
   "metadata": {},
   "outputs": [
    {
     "data": {
      "text/plain": [
       "Age                            int64\n",
       "BMI                          float64\n",
       "Menstrual_Irregularity         int64\n",
       "Testosterone_Level(ng/dL)    float64\n",
       "Antral_Follicle_Count          int64\n",
       "PCOS_Diagnosis                 int64\n",
       "dtype: object"
      ]
     },
     "execution_count": 7,
     "metadata": {},
     "output_type": "execute_result"
    }
   ],
   "source": [
    "df.dtypes\n"
   ]
  },
  {
   "cell_type": "code",
   "execution_count": null,
   "metadata": {},
   "outputs": [],
   "source": []
  },
  {
   "cell_type": "markdown",
   "metadata": {},
   "source": [
    "CHECKING FOR NULL VAUES"
   ]
  },
  {
   "cell_type": "code",
   "execution_count": 8,
   "metadata": {},
   "outputs": [
    {
     "data": {
      "text/plain": [
       "Age                          0\n",
       "BMI                          0\n",
       "Menstrual_Irregularity       0\n",
       "Testosterone_Level(ng/dL)    0\n",
       "Antral_Follicle_Count        0\n",
       "PCOS_Diagnosis               0\n",
       "dtype: int64"
      ]
     },
     "execution_count": 8,
     "metadata": {},
     "output_type": "execute_result"
    }
   ],
   "source": [
    "df.isnull().sum()"
   ]
  },
  {
   "cell_type": "code",
   "execution_count": null,
   "metadata": {},
   "outputs": [],
   "source": []
  },
  {
   "cell_type": "markdown",
   "metadata": {},
   "source": [
    "CHECKING FOR DUPLICATE VALUES"
   ]
  },
  {
   "cell_type": "code",
   "execution_count": 9,
   "metadata": {},
   "outputs": [
    {
     "data": {
      "text/plain": [
       "np.int64(0)"
      ]
     },
     "execution_count": 9,
     "metadata": {},
     "output_type": "execute_result"
    }
   ],
   "source": [
    "df.duplicated().sum()"
   ]
  },
  {
   "cell_type": "code",
   "execution_count": null,
   "metadata": {},
   "outputs": [],
   "source": []
  },
  {
   "cell_type": "markdown",
   "metadata": {},
   "source": [
    "WE USE SCATTER PLOT FOR FINDING THE RELATION WHY PCOS IS OCCURRING"
   ]
  },
  {
   "cell_type": "code",
   "execution_count": 10,
   "metadata": {},
   "outputs": [
    {
     "data": {
      "image/png": "[encoded data removed]",
      "text/plain": [
       "<Figure size 640x480 with 1 Axes>"
      ]
     },
     "metadata": {},
     "output_type": "display_data"
    }
   ],
   "source": [
    "plt.scatter(df['Age'], df['PCOS_Diagnosis'] )\n",
    "plt.title('Scatter Plot')\n",
    "plt.xlabel('Diagnosis')\n",
    "plt.ylabel('Age')\n",
    "plt.show()"
   ]
  },
  {
   "cell_type": "markdown",
   "metadata": {},
   "source": [
    "WE SEE THAT PEOPLE OF EVERY AGE ARE PRONE TO HAVING PCOS , SO ITS NOT A MATTER OF AGE THAT PCOS OCCUR IN WOMEN"
   ]
  },
  {
   "cell_type": "code",
   "execution_count": null,
   "metadata": {},
   "outputs": [],
   "source": []
  },
  {
   "cell_type": "code",
   "execution_count": 16,
   "metadata": {},
   "outputs": [
    {
     "data": {
      "image/png": "[encoded data removed]",
      "text/plain": [
       "<Figure size 640x480 with 1 Axes>"
      ]
     },
     "metadata": {},
     "output_type": "display_data"
    }
   ],
   "source": [
    "plt.scatter(df['PCOS_Diagnosis'], df['BMI']  )\n",
    "plt.title('Scatter Plot')\n",
    "plt.xlabel('Diagnosis')\n",
    "plt.ylabel('BMI')\n",
    "plt.show()"
   ]
  },
  {
   "cell_type": "markdown",
   "metadata": {},
   "source": [
    "PCOS IS ALSO SEEN IN PEOPLE ABOVE THE BMI OF 25. BMI ABOVE 25 COMES UNDER OVER WEIGHT CATEGORY"
   ]
  },
  {
   "cell_type": "code",
   "execution_count": null,
   "metadata": {},
   "outputs": [],
   "source": []
  },
  {
   "cell_type": "code",
   "execution_count": 12,
   "metadata": {},
   "outputs": [
    {
     "data": {
      "image/png": "[encoded data removed]",
      "text/plain": [
       "<Figure size 640x480 with 1 Axes>"
      ]
     },
     "metadata": {},
     "output_type": "display_data"
    }
   ],
   "source": [
    "plt.scatter(df['PCOS_Diagnosis'], df['Menstrual_Irregularity']  )\n",
    "plt.title('Scatter Plot')\n",
    "plt.xlabel('Diagnosis')\n",
    "plt.ylabel('Mensuration')\n",
    "plt.show()"
   ]
  },
  {
   "cell_type": "markdown",
   "metadata": {},
   "source": [
    "PEOPLE WHO HAVE PCOS HAVE MENSURATION IRREGULARITY"
   ]
  },
  {
   "cell_type": "code",
   "execution_count": null,
   "metadata": {},
   "outputs": [],
   "source": []
  },
  {
   "cell_type": "code",
   "execution_count": 14,
   "metadata": {},
   "outputs": [
    {
     "data": {
      "image/png": "[encoded data removed]",
      "text/plain": [
       "<Figure size 640x480 with 1 Axes>"
      ]
     },
     "metadata": {},
     "output_type": "display_data"
    }
   ],
   "source": [
    "plt.scatter(df['PCOS_Diagnosis'], df['Testosterone_Level(ng/dL)']  )\n",
    "plt.title('Scatter Plot')\n",
    "plt.xlabel('Diagnosis')\n",
    "plt.ylabel('Testosterone_Level(ng/dL)')\n",
    "plt.show()"
   ]
  },
  {
   "cell_type": "markdown",
   "metadata": {},
   "source": [
    "MORE THAN HALF OF THE WOMENS WHO HAVE TESTOSTERONE LEVEL ABOVE 40 HAVE PCOS"
   ]
  },
  {
   "cell_type": "code",
   "execution_count": null,
   "metadata": {},
   "outputs": [],
   "source": []
  },
  {
   "cell_type": "code",
   "execution_count": 15,
   "metadata": {},
   "outputs": [
    {
     "data": {
      "text/plain": [
       "Text(0, 0.5, 'Antral_Follicle_Count')"
      ]
     },
     "execution_count": 15,
     "metadata": {},
     "output_type": "execute_result"
    },
    {
     "data": {
      "image/png": "[encoded data removed]",
      "text/plain": [
       "<Figure size 640x480 with 1 Axes>"
      ]
     },
     "metadata": {},
     "output_type": "display_data"
    }
   ],
   "source": [
    "plt.scatter(df['PCOS_Diagnosis'], df['Antral_Follicle_Count']  )\n",
    "plt.title('Scatter Plot')\n",
    "plt.xlabel('Diagnosis')\n",
    "plt.ylabel('Antral_Follicle_Count')"
   ]
  },
  {
   "cell_type": "markdown",
   "metadata": {},
   "source": [
    "MORE THAN 50% OF PEOPLE WITH ANTRAL FOLLICLE COUNT ABOVE 10 HAVE PCOS"
   ]
  },
  {
   "cell_type": "markdown",
   "metadata": {},
   "source": [
    "AS THE DATAS ARE NOT ENOUGH TO FIND THE EXACT CAUSE ALTHOUGH THERE ARE INDICATIONS THAT WOMEN'S WITH HIGH TESTOTERONE(MALE HORMONE) OR HIGH BMI(BODY MASS INDEX) ARE SEEN TO HAVE PCOS. DUE TO LACK OF DATA EXCAT CAUSE CANNOT BE FOUND"
   ]
  },
  {
   "cell_type": "code",
   "execution_count": null,
   "metadata": {},
   "outputs": [],
   "source": []
  }
 ],
 "metadata": {
  "kernelspec": {
   "display_name": "Python 3 (ipykernel)",
   "language": "python",
   "name": "python3"
  },
  "language_info": {
   "codemirror_mode": {
    "name": "ipython",
    "version": 3
   },
   "file_extension": ".py",
   "mimetype": "text/x-python",
   "name": "python",
   "nbconvert_exporter": "python",
   "pygments_lexer": "ipython3",
   "version": "3.13.1"
  }
 },
 "nbformat": 4,
 "nbformat_minor": 4
}
